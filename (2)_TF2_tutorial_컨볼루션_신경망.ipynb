{
  "nbformat": 4,
  "nbformat_minor": 0,
  "metadata": {
    "colab": {
      "name": "(2) TF2-tutorial-컨볼루션 신경망.ipynb",
      "provenance": [],
      "collapsed_sections": [],
      "authorship_tag": "ABX9TyNQe+a69bf1jnlmgzHhqnPS",
      "include_colab_link": true
    },
    "kernelspec": {
      "display_name": "Python 3",
      "language": "python",
      "name": "python3"
    },
    "language_info": {
      "codemirror_mode": {
        "name": "ipython",
        "version": 3
      },
      "file_extension": ".py",
      "mimetype": "text/x-python",
      "name": "python",
      "nbconvert_exporter": "python",
      "pygments_lexer": "ipython3",
      "version": "3.7.4"
    },
    "accelerator": "GPU"
  },
  "cells": [
    {
      "cell_type": "markdown",
      "metadata": {
        "id": "view-in-github",
        "colab_type": "text"
      },
      "source": [
        "<a href=\"https://colab.research.google.com/github/SevillaBK/Tensorflow2.0/blob/master/(2)_TF2_tutorial_%EC%BB%A8%EB%B3%BC%EB%A3%A8%EC%85%98_%EC%8B%A0%EA%B2%BD%EB%A7%9D.ipynb\" target=\"_parent\"><img src=\"https://colab.research.google.com/assets/colab-badge.svg\" alt=\"Open In Colab\"/></a>"
      ]
    },
    {
      "cell_type": "markdown",
      "metadata": {
        "colab_type": "text",
        "id": "Nn7Eh_iM3De_"
      },
      "source": [
        "# 텐서플로 공식블로그 튜토리얼 : 컨볼루션 신경망\n",
        "  - https://www.tensorflow.org/tutorials/images/cnn#import_packages\n",
        "\n",
        "이번 튜토리얼은 운동화, 셔츠, 가방 등 패션 관련 이미지를 분류하는 신경망 모델을 만들어보는 내용입니다.\n",
        "\n",
        "이번 튜토리얼은 MNIST 숫자를 분류하기 위한 간단한 컨볼루션 신경망 모델을 만들어보는 내용입니다."
      ]
    },
    {
      "cell_type": "code",
      "metadata": {
        "colab_type": "code",
        "id": "-bQvrEPD2kNA",
        "colab": {}
      },
      "source": [
        "# 라이브러리 불러오기\n",
        "import tensorflow as tf\n",
        "from tensorflow.keras import datasets, layers, models"
      ],
      "execution_count": 0,
      "outputs": []
    },
    {
      "cell_type": "markdown",
      "metadata": {
        "colab_type": "text",
        "id": "GenjI8j64ubC"
      },
      "source": [
        "## 1. MNIST 데이터셋 임포트하기"
      ]
    },
    {
      "cell_type": "code",
      "metadata": {
        "colab_type": "code",
        "id": "i6NMveyd6wSa",
        "outputId": "20de3d0f-dfba-43a2-abf2-aba8d773b285",
        "colab": {
          "base_uri": "https://localhost:8080/",
          "height": 83
        }
      },
      "source": [
        "# MNIST 데이터셋 불러오기\n",
        "(train_X, train_Y), (test_X, test_Y) = datasets.mnist.load_data()\n",
        "\n",
        "print(train_X.shape)\n",
        "print(train_Y.shape)\n",
        "print(test_X.shape)\n",
        "print(test_Y.shape)\n",
        "\n",
        "\n",
        "# 모델에 넣기 위한 데이터 변환\n",
        "train_X = train_X.reshape((60000, 28, 28, 1))\n",
        "test_X = test_X.reshape((10000, 28, 28, 1))\n",
        "train_X, test_X = train_X / 255.0 , test_X / 255.0"
      ],
      "execution_count": 0,
      "outputs": [
        {
          "output_type": "stream",
          "text": [
            "(60000, 28, 28)\n",
            "(60000,)\n",
            "(10000, 28, 28)\n",
            "(10000,)\n"
          ],
          "name": "stdout"
        }
      ]
    },
    {
      "cell_type": "markdown",
      "metadata": {
        "colab_type": "text",
        "id": "fXGAHJbb_zd-"
      },
      "source": [
        "훈련 데이터셋은 28x28 픽셀의 60,000개의 데이터로 이루어져 있고,<br/>\n",
        "테스트 데이터는 28x28 픽셀의 10,000개 데이터로 이루어져 있습니다.\n",
        "\n",
        "각 픽셀은 0과 255 사이의 값으로 되어 있어 0과 1사이로 스케일링 해주었습니다."
      ]
    },
    {
      "cell_type": "markdown",
      "metadata": {
        "id": "fRu7DyjWscUw",
        "colab_type": "text"
      },
      "source": [
        "## 2. 합성곱 층(컨볼루션 레이어) 만들기"
      ]
    },
    {
      "cell_type": "markdown",
      "metadata": {
        "id": "B5NQ2pzIsf1b",
        "colab_type": "text"
      },
      "source": [
        "아래의 코드는 **Conv2D**와 **MaxPooling2D** 층을 쌓는 일반적인 패턴입니다.<br/>\n",
        "CNN은 배치 크기를 제외하고 (이미지높이, 이미지너비, 컬러채널) 크기의 텐서를 입력으로 받습니다.<br/>\n",
        "MNIST 데이터는 흑백이미지이므로 컬러 채널이 하나이지만 컬러이미지는 RGB 세개의 채널을 가집니다.\n",
        "\n",
        "이번 예제에서는 MNIST 이미지 포맷인 (28, 28, 1) 크기의 입력을 처리하는 CNN을 만듭니다.\n",
        "\n",
        "이 값은 첫 번째 층의 `input_shape` 매개변수로 전달됩니다."
      ]
    },
    {
      "cell_type": "code",
      "metadata": {
        "colab_type": "code",
        "id": "KxZ3rGni3kI5",
        "outputId": "45e8d502-c890-46ec-b0fb-c6298b56f08d",
        "colab": {
          "base_uri": "https://localhost:8080/",
          "height": 316
        }
      },
      "source": [
        "model = models.Sequential()\n",
        "model.add(layers.Conv2D(32, (3, 3), activation='relu', input_shape=(28, 28, 1)))\n",
        "model.add(layers.MaxPooling2D((2, 2)))\n",
        "model.add(layers.Conv2D(64, (3, 3), activation='relu'))\n",
        "model.add(layers.MaxPooling2D((2, 2)))\n",
        "model.add(layers.Conv2D(64, (3, 3), activation='relu'))\n",
        "\n",
        "model.summary()"
      ],
      "execution_count": 0,
      "outputs": [
        {
          "output_type": "stream",
          "text": [
            "Model: \"sequential\"\n",
            "_________________________________________________________________\n",
            "Layer (type)                 Output Shape              Param #   \n",
            "=================================================================\n",
            "conv2d (Conv2D)              (None, 26, 26, 32)        320       \n",
            "_________________________________________________________________\n",
            "max_pooling2d (MaxPooling2D) (None, 13, 13, 32)        0         \n",
            "_________________________________________________________________\n",
            "conv2d_1 (Conv2D)            (None, 11, 11, 64)        18496     \n",
            "_________________________________________________________________\n",
            "max_pooling2d_1 (MaxPooling2 (None, 5, 5, 64)          0         \n",
            "_________________________________________________________________\n",
            "conv2d_2 (Conv2D)            (None, 3, 3, 64)          36928     \n",
            "=================================================================\n",
            "Total params: 55,744\n",
            "Trainable params: 55,744\n",
            "Non-trainable params: 0\n",
            "_________________________________________________________________\n"
          ],
          "name": "stdout"
        }
      ]
    },
    {
      "cell_type": "markdown",
      "metadata": {
        "id": "BhMv-1lcfbNz",
        "colab_type": "text"
      },
      "source": [
        "위에서 Conv2D와 MaxPooling2 층의 출력은 (높이, 너비, 채널) 크기의 3D 텐서입니다. 높이와 너비 차원은 네트워크가 깊어질 수록 감소하는 경향을 가집니다. "
      ]
    },
    {
      "cell_type": "markdown",
      "metadata": {
        "id": "DhnZKP3qgX-o",
        "colab_type": "text"
      },
      "source": [
        "Conv2D 층의 출력 채널의 수는 첫 번째 변수(filters)에 의해 결정됩니다. 일반적으로 높이와 너비가 줄어듦에 따라 Conv2D 출력 채널을 늘릴 수 있습니다."
      ]
    },
    {
      "cell_type": "markdown",
      "metadata": {
        "id": "zPBmU3Y_grNF",
        "colab_type": "text"
      },
      "source": [
        "## 3. 마지막에 Dense 층 추가하기"
      ]
    },
    {
      "cell_type": "markdown",
      "metadata": {
        "id": "a7e1jP8tgvy1",
        "colab_type": "text"
      },
      "source": [
        "모델을 완성하려면 마지막 합성곱층의 출력텐서 (3, 3, 64)를 Dense층에 주입하여 분류를 수행해야 합니다. Dense 층은 1차원의 텐서를 입력값으로 받기 때문에 현재 3차원 텐서를 Flatten 층을 이용해 1차원으로 변환해줍니다. <br/><br/>\n",
        "MNIST 데이터는 10개의 클래스가 있으므로 마지막 Dense 층에 10개의 출력과 softmax 활성화함수를 사용합니다."
      ]
    },
    {
      "cell_type": "code",
      "metadata": {
        "id": "Yzx_sHrhgXpt",
        "colab_type": "code",
        "outputId": "cb9cbd34-434a-4a8a-cdef-2a74f2b72652",
        "colab": {
          "base_uri": "https://localhost:8080/",
          "height": 416
        }
      },
      "source": [
        "model.add(layers.Flatten())\n",
        "model.add(layers.Dense(64, activation='relu'))\n",
        "model.add(layers.Dense(10, activation='softmax'))\n",
        "\n",
        "model.summary()"
      ],
      "execution_count": 0,
      "outputs": [
        {
          "output_type": "stream",
          "text": [
            "Model: \"sequential\"\n",
            "_________________________________________________________________\n",
            "Layer (type)                 Output Shape              Param #   \n",
            "=================================================================\n",
            "conv2d (Conv2D)              (None, 26, 26, 32)        320       \n",
            "_________________________________________________________________\n",
            "max_pooling2d (MaxPooling2D) (None, 13, 13, 32)        0         \n",
            "_________________________________________________________________\n",
            "conv2d_1 (Conv2D)            (None, 11, 11, 64)        18496     \n",
            "_________________________________________________________________\n",
            "max_pooling2d_1 (MaxPooling2 (None, 5, 5, 64)          0         \n",
            "_________________________________________________________________\n",
            "conv2d_2 (Conv2D)            (None, 3, 3, 64)          36928     \n",
            "_________________________________________________________________\n",
            "flatten (Flatten)            (None, 576)               0         \n",
            "_________________________________________________________________\n",
            "dense (Dense)                (None, 64)                36928     \n",
            "_________________________________________________________________\n",
            "dense_1 (Dense)              (None, 10)                650       \n",
            "=================================================================\n",
            "Total params: 93,322\n",
            "Trainable params: 93,322\n",
            "Non-trainable params: 0\n",
            "_________________________________________________________________\n"
          ],
          "name": "stdout"
        }
      ]
    },
    {
      "cell_type": "markdown",
      "metadata": {
        "id": "uFWxgBEXiiG3",
        "colab_type": "text"
      },
      "source": [
        "아까의 모델에서 2개의 Dense 층이 추가되었고, 그 앞에 (3, 3, 64)의 출력을 (576) 크기로 변환시켜주는 과정이 있었습니다."
      ]
    },
    {
      "cell_type": "markdown",
      "metadata": {
        "colab_type": "text",
        "id": "zVrgRUYbEc5d"
      },
      "source": [
        "## 4. 모델 컴파일과 훈련하기"
      ]
    },
    {
      "cell_type": "code",
      "metadata": {
        "colab_type": "code",
        "id": "fcVwX9rXEVxC",
        "outputId": "0083a16a-fafa-43a6-a4be-8115f21a29d3",
        "colab": {
          "base_uri": "https://localhost:8080/",
          "height": 220
        }
      },
      "source": [
        "model.compile(optimizer='adam',\n",
        "              loss='sparse_categorical_crossentropy',\n",
        "              metrics=['accuracy'])\n",
        "\n",
        "model.fit(train_X, train_Y, epochs=5)"
      ],
      "execution_count": 0,
      "outputs": [
        {
          "output_type": "stream",
          "text": [
            "Epoch 1/5\n",
            "1875/1875 [==============================] - 5s 3ms/step - loss: 0.1399 - accuracy: 0.9562\n",
            "Epoch 2/5\n",
            "1875/1875 [==============================] - 5s 3ms/step - loss: 0.0434 - accuracy: 0.9865\n",
            "Epoch 3/5\n",
            "1875/1875 [==============================] - 5s 3ms/step - loss: 0.0319 - accuracy: 0.9901\n",
            "Epoch 4/5\n",
            "1875/1875 [==============================] - 5s 3ms/step - loss: 0.0241 - accuracy: 0.9924\n",
            "Epoch 5/5\n",
            "1875/1875 [==============================] - 5s 3ms/step - loss: 0.0207 - accuracy: 0.9935\n"
          ],
          "name": "stdout"
        },
        {
          "output_type": "execute_result",
          "data": {
            "text/plain": [
              "<tensorflow.python.keras.callbacks.History at 0x7f9f103cfdd8>"
            ]
          },
          "metadata": {
            "tags": []
          },
          "execution_count": 5
        }
      ]
    },
    {
      "cell_type": "markdown",
      "metadata": {
        "id": "LdXUIno5jrNa",
        "colab_type": "text"
      },
      "source": [
        "## 5. 모델 평가"
      ]
    },
    {
      "cell_type": "code",
      "metadata": {
        "id": "mm0v-qj-jntT",
        "colab_type": "code",
        "outputId": "6332a555-3892-4fbd-c208-0c2afba25a47",
        "colab": {
          "base_uri": "https://localhost:8080/",
          "height": 66
        }
      },
      "source": [
        "test_loss, test_acc = model.evaluate(test_X, test_Y, verbose=2)\n",
        "\n",
        "print(test_loss)\n",
        "print(test_acc)"
      ],
      "execution_count": 0,
      "outputs": [
        {
          "output_type": "stream",
          "text": [
            "313/313 - 1s - loss: 0.0344 - accuracy: 0.9899\n",
            "0.034359160810709\n",
            "0.9898999929428101\n"
          ],
          "name": "stdout"
        }
      ]
    },
    {
      "cell_type": "markdown",
      "metadata": {
        "id": "_IvWU1f_kQII",
        "colab_type": "text"
      },
      "source": [
        "MNIST 데이터셋에 대해 간단한 모델로도 98.9%의 정확도를 달성할 수 있었습니다."
      ]
    }
  ]
}