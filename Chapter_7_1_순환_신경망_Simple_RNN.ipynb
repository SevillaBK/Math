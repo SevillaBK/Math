{
  "nbformat": 4,
  "nbformat_minor": 0,
  "metadata": {
    "colab": {
      "name": "Chapter 7-1. 순환 신경망 : Simple RNN.ipynb",
      "provenance": [],
      "collapsed_sections": [],
      "authorship_tag": "ABX9TyPXvlfZJIsrgz5MHiQnhhfe",
      "include_colab_link": true
    },
    "kernelspec": {
      "name": "python3",
      "display_name": "Python 3"
    },
    "accelerator": "GPU"
  },
  "cells": [
    {
      "cell_type": "markdown",
      "metadata": {
        "id": "view-in-github",
        "colab_type": "text"
      },
      "source": [
        "<a href=\"https://colab.research.google.com/github/SevillaBK/Tensorflow2.0/blob/master/Chapter_7_1_%E1%84%89%E1%85%AE%E1%86%AB%E1%84%92%E1%85%AA%E1%86%AB_%E1%84%89%E1%85%B5%E1%86%AB%E1%84%80%E1%85%A7%E1%86%BC%E1%84%86%E1%85%A1%E1%86%BC_Simple_RNN.ipynb\" target=\"_parent\"><img src=\"https://colab.research.google.com/assets/colab-badge.svg\" alt=\"Open In Colab\"/></a>"
      ]
    },
    {
      "cell_type": "markdown",
      "metadata": {
        "id": "AI8z5TiYnQMi",
        "colab_type": "text"
      },
      "source": [
        "**순환 신경망(Recurrent Neural Network, RNN)**은 순서가 있는 데이터를 입력으로 받고, 같은 네트워크를 이용해 변화하는 입력에 대한 출력을 얻어냅니다.\n",
        "\n",
        "순서가 있는 데이터는 암악, 자연어, 날씨, 주가 등 시간의 흐름에 따라 변화하고 그 변화가 의미를 갖는 데이터입니다."
      ]
    },
    {
      "cell_type": "markdown",
      "metadata": {
        "id": "KtUVNxfE64zl",
        "colab_type": "text"
      },
      "source": [
        "# 1. 순환 신경망의 구조"
      ]
    },
    {
      "cell_type": "markdown",
      "metadata": {
        "id": "uwJLGRM_7KwN",
        "colab_type": "text"
      },
      "source": [
        "순환신경망은 일반적인 딥러닝 네트워크가 마찬가지로 입력 X를 받아 출력 Y를 반환하는 것은 동일하지만 되먹임 구조를 가지고 있다는 차이가 있습니다.<br/>여기서 되먹임 구조란 어떤 레이어의 출력을 다시 입력으로 받는 구조를 말합니다.\n",
        "\n",
        "![alt text](https://github.com/injo-image/image/blob/master/tensorflow/chapter7/01.%20DNN%20vs%20RNN.png?raw=true)"
      ]
    },
    {
      "cell_type": "markdown",
      "metadata": {
        "id": "VnuOp7hyHCnw",
        "colab_type": "text"
      },
      "source": [
        "순환 신경망의 구조를 풀어보면 아래 그림처럼 입력이 X1, X2, X3로 변할 때, 같은 네트워크를 사용해 Y1, Y2, Y3를 반환하는 것을 볼 수 있습니다.<br/>\n",
        "이 때, **출력값은 다음 입력을 받을 때의 RNN 네트워크에도 동일하게 전달됩니다.** <br/>즉, RNN 네트워크는 처음 X1을 입력으로 받고, 그 다음에는 X2와 이전 단계의 출력인 Y1, 그 다음에는 X3와 그 이전 단계의 출력인 Y2를 입력값으로 받습니다.\n",
        "\n",
        "![alt text](https://github.com/injo-image/image/blob/master/tensorflow/chapter7/02.%20RNN.png?raw=true)"
      ]
    },
    {
      "cell_type": "markdown",
      "metadata": {
        "id": "RR2po_n6vtjs",
        "colab_type": "text"
      },
      "source": [
        "순환신경망은 입력과 출력의 길이에 제한이 없어 다양한 형태의 네트워크를 만들 수 있습니다.<br/> 이를 통해 이미지 설명 생성, 문장의 긍정부정을 판단하는 감성분석, 번역 등 다양한 목적에 활용할 수 있습니다.\n",
        "\n",
        "![alt text](https://github.com/injo-image/image/blob/master/tensorflow/chapter7/03.%20RNN%20Types.png?raw=true)"
      ]
    },
    {
      "cell_type": "markdown",
      "metadata": {
        "id": "kuFjJ4dHMRX1",
        "colab_type": "text"
      },
      "source": [
        "# 2. Simple RNN"
      ]
    },
    {
      "cell_type": "markdown",
      "metadata": {
        "id": "SLKgX4v5L79V",
        "colab_type": "text"
      },
      "source": [
        "**SimpleRNN**은 순환신경망의 가장 기초적인 레이어입니다.<br/>\n",
        "구조는 아래의 그림과 같습니다.\n",
        "\n",
        "![alt text](https://github.com/injo-image/image/blob/master/tensorflow/chapter7/04.%20Simple%20RNN.png?raw=true)"
      ]
    },
    {
      "cell_type": "markdown",
      "metadata": {
        "id": "2IFX0mlaw0U1",
        "colab_type": "text"
      },
      "source": [
        "x는 SimpleRNN에 들어가는 입력을 나타내고, h는 SimpleRNN의 출력을 나타냅니다.<br/>\n",
        "U와 W는 입력과 출력에 곱해지는 가중치입니다. 단계 t에서 SimpleRNN의 출력은 아래 수식으로 나타낼 수 있습니다.<br/><br/>\n",
        "$ h_{t} = tanh(U_{x_{t}} + Wh_{t-1})$ "
      ]
    },
    {
      "cell_type": "markdown",
      "metadata": {
        "id": "ZndV9K9Kw0Rc",
        "colab_type": "text"
      },
      "source": [
        "활성화함수로 tanh를 사용한 경우입니다. 활성화함수 자리에 ReLU와 같은 다른 활성화함수를 쓸 수도 있습니다.<br/>\n",
        "텐서플로 케라스에서는 SimpleRNN 레이어를 아래와 같은 코드로 나타낼 수 있습니다.\n",
        "\n",
        "```python\n",
        "rnn1 = tf.keras.layers.SimpleRNN(units=1, activation='tanh', return_sequences=True)\n",
        "```"
      ]
    },
    {
      "cell_type": "markdown",
      "metadata": {
        "id": "m1eVfEsJzGF0",
        "colab_type": "text"
      },
      "source": [
        "* `units` : SimpleRNN 레이어에 존재하는 뉴런의 수\n",
        "* `return_sequences` : 출력으로 시퀀스 전체를 출력할지 여부를 나타내는 옵션으로, 주로 여러 개의 레이어를 쌓을 때 사용\n",
        "* `input_shape` : 첫 번째 레이어에서 사용되며 튜플형태로 (time steps, input_dim) 입력\n",
        "  - time steps : 순환신경망이 입력에 대해 계산을 반복하는 횟수\n",
        "  - input_dim : 입력 벡터의 크기 "
      ]
    },
    {
      "cell_type": "markdown",
      "metadata": {
        "id": "Umes7aNBTNvm",
        "colab_type": "text"
      },
      "source": [
        "SimpleRNN의 간단한 예제로 [0.0, 0.1, 0.2, 0.3] 이라는 연속된 숫자가 주어졌을 때, [0.4]를 예측하는 네트워크를 만들어보겠습니다."
      ]
    },
    {
      "cell_type": "code",
      "metadata": {
        "id": "0HoxJzj3ywT9",
        "colab_type": "code",
        "outputId": "4cc42ff2-747a-4de7-9174-d32fc7956dc9",
        "colab": {
          "base_uri": "https://localhost:8080/",
          "height": 416
        }
      },
      "source": [
        "import tensorflow as tf\n",
        "import numpy as np\n",
        "\n",
        "# 시퀀스 예측 데이터 생성\n",
        "X = []\n",
        "Y = []\n",
        "for i in range(6):\n",
        "  # [0, 1, 2, 3], [1, 2, 3, 4]와 같은 정수의 시퀀스 만들기\n",
        "  lst = list(range(i, i+4))\n",
        "\n",
        "  # 위에서 구한 시퀀스의 숫자들을 10으로 나눈 뒤 저장\n",
        "  # SimpleRNN의 각 타임스탭에 하나씩 숫자가 들어가기 때문에 여기서도 하나씩 분리해서 배열에 저장\n",
        "  X.append(list(map(lambda c : [c/10], lst)))\n",
        "  # 정답에 해당하는 4, 5 등의 정수 역시 앞에서처럼 10으로 나눠서 저장\n",
        "  Y.append((i+4)/10)\n",
        "\n",
        "X = np.array(X)\n",
        "Y = np.array(Y)\n",
        "for i in range(len(X)):\n",
        "  print(X[i], Y[i])"
      ],
      "execution_count": 0,
      "outputs": [
        {
          "output_type": "stream",
          "text": [
            "[[0. ]\n",
            " [0.1]\n",
            " [0.2]\n",
            " [0.3]] 0.4\n",
            "[[0.1]\n",
            " [0.2]\n",
            " [0.3]\n",
            " [0.4]] 0.5\n",
            "[[0.2]\n",
            " [0.3]\n",
            " [0.4]\n",
            " [0.5]] 0.6\n",
            "[[0.3]\n",
            " [0.4]\n",
            " [0.5]\n",
            " [0.6]] 0.7\n",
            "[[0.4]\n",
            " [0.5]\n",
            " [0.6]\n",
            " [0.7]] 0.8\n",
            "[[0.5]\n",
            " [0.6]\n",
            " [0.7]\n",
            " [0.8]] 0.9\n"
          ],
          "name": "stdout"
        }
      ]
    },
    {
      "cell_type": "code",
      "metadata": {
        "id": "Dex3BLEuV9hp",
        "colab_type": "code",
        "outputId": "f846ec66-c786-44d3-b614-4a64e1521921",
        "colab": {
          "base_uri": "https://localhost:8080/",
          "height": 216
        }
      },
      "source": [
        "from tensorflow.keras import Sequential\n",
        "from tensorflow.keras.layers import SimpleRNN, Dense\n",
        "\n",
        "# SimpleRNN 정의\n",
        "model = Sequential([\n",
        "  SimpleRNN(units=10, return_sequences=False, input_shape=(4,1)),\n",
        "  Dense(1)                  \n",
        "])\n",
        "\n",
        "model.compile(optimizer='adam', loss='mse')\n",
        "model.summary()"
      ],
      "execution_count": 0,
      "outputs": [
        {
          "output_type": "stream",
          "text": [
            "Model: \"sequential\"\n",
            "_________________________________________________________________\n",
            "Layer (type)                 Output Shape              Param #   \n",
            "=================================================================\n",
            "simple_rnn (SimpleRNN)       (None, 10)                120       \n",
            "_________________________________________________________________\n",
            "dense (Dense)                (None, 1)                 11        \n",
            "=================================================================\n",
            "Total params: 131\n",
            "Trainable params: 131\n",
            "Non-trainable params: 0\n",
            "_________________________________________________________________\n"
          ],
          "name": "stdout"
        }
      ]
    },
    {
      "cell_type": "markdown",
      "metadata": {
        "id": "LX7q6R3M-3el",
        "colab_type": "text"
      },
      "source": [
        "이 모델에서 input 값으로 들어가는 X는 [1, 4, 1] 차원의 벡터입니다.<br/>\n",
        "```python\n",
        "[ [0],\n",
        "  [0.1],\n",
        "  [0.2],\n",
        "  [0.3] ]\n",
        "```\n",
        "가장 첫 차원은 배치 차원이기 때문에 두 번째 4는 timestep, 세 번째 1은 input_dim 입니다.\n",
        "\n",
        "위의 인풋값이 SimpleRNN에 들어가는 것을 그림으로 나타내면 아래와 같습니다.\n",
        "\n",
        "![alt text](https://github.com/injo-image/image/blob/master/tensorflow/chapter7/05.%20Simple%20RNN%20-%20example.png?raw=true)\n",
        "\n",
        "시퀀스 예측 모델은 4 타임스텝에 걸쳐 입력을 받고, 마지막 출력 값을 다음 레이어로 반환합니다.<br/>\n",
        "이번 모델의 경우, 마지막 Dense 레이어에 별도의 활성화 함수가 없기 때문에 h3가 바로 y3가 됩니다.<br/>\n",
        "그리고 이 값과 0.4의 차이가 mse가 됩니다.\n",
        "\n",
        "이 네트워크를 학습시켜 예측까지 수행해보겠습니다."
      ]
    },
    {
      "cell_type": "code",
      "metadata": {
        "id": "Q5TGcrTW-lZ2",
        "colab_type": "code",
        "outputId": "edce2fae-85ab-49ce-96da-a1ad55303c5b",
        "colab": {
          "base_uri": "https://localhost:8080/",
          "height": 116
        }
      },
      "source": [
        "model.fit(X, Y, epochs=100, verbose=0) # verbose=0으로 하면 학습과정이 출력되지 않음\n",
        "print(model.predict(X))"
      ],
      "execution_count": 0,
      "outputs": [
        {
          "output_type": "stream",
          "text": [
            "[[0.49902624]\n",
            " [0.57742035]\n",
            " [0.642786  ]\n",
            " [0.69606656]\n",
            " [0.7389752 ]\n",
            " [0.77302873]]\n"
          ],
          "name": "stdout"
        }
      ]
    },
    {
      "cell_type": "markdown",
      "metadata": {
        "id": "Fcsk_m_GYMg9",
        "colab_type": "text"
      },
      "source": [
        "예측결과가 정답인 0.4, 0.5, 0.6, 0.7, 0.8, 0.9 와 얼추 비슷하게 예측이 된 것 같습니다.\n",
        "\n",
        "이번에는 학습과정에서 본 적이 없는 테스트 데이터에 대해 예측을 해보겠습니다."
      ]
    },
    {
      "cell_type": "code",
      "metadata": {
        "id": "BgvGOJCrV9ek",
        "colab_type": "code",
        "outputId": "e8ec46c9-7460-48c7-c8f6-b10bfd94a864",
        "colab": {
          "base_uri": "https://localhost:8080/",
          "height": 50
        }
      },
      "source": [
        "print(model.predict(np.array([[[0.6], [0.7], [0.8], [0.9]]])))\n",
        "print(model.predict(np.array([[[-0.1], [0.0], [0.1], [0.2]]])))"
      ],
      "execution_count": 0,
      "outputs": [
        {
          "output_type": "stream",
          "text": [
            "[[0.7992749]]\n",
            "[[0.40885445]]\n"
          ],
          "name": "stdout"
        }
      ]
    },
    {
      "cell_type": "markdown",
      "metadata": {
        "id": "3gLsvskfKI_z",
        "colab_type": "text"
      },
      "source": [
        "1.0 에 가깝게 예측되어야할 값에는 0.8817471, 0.3에 가깝게 예측되어야할 값에는 0.27612838을 예측했습니다.<br/>\n",
        "결과를 더 개선하려면 훈련 데이터를 더 많이 넣어주는 것이 좋을 것입니다."
      ]
    }
  ]
}